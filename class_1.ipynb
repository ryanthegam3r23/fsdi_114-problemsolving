{
 "cells": [
  {
   "cell_type": "markdown",
   "id": "77d80d13",
   "metadata": {},
   "source": [
    "FSDI 114 - Class 1: Jupyter Introduction and Problem Solving"
   ]
  },
  {
   "cell_type": "code",
   "execution_count": 2,
   "id": "166500ec",
   "metadata": {},
   "outputs": [
    {
     "name": "stdout",
     "output_type": "stream",
     "text": [
      "H\n",
      "e\n",
      "l\n",
      "l\n",
      "o\n",
      ",\n",
      " \n",
      "W\n",
      "o\n",
      "r\n",
      "l\n",
      "d\n"
     ]
    }
   ],
   "source": [
    "for letter in \"Hello, World\":\n",
    "    print(letter)"
   ]
  },
  {
   "cell_type": "code",
   "execution_count": null,
   "id": "2185dd27",
   "metadata": {},
   "outputs": [],
   "source": []
  },
  {
   "cell_type": "markdown",
   "id": "c39db4b8",
   "metadata": {},
   "source": [
    "# Problem 1\n",
    "\n",
    "### Find the total numbers from a Collection that divided by 2 the module is 0\n",
    "\n",
    "```\n",
    "1. Given [3,4,10,15,999,2] Then the output should be: total=3\n",
    "2. Given [2,4,6,10,3.7] Then the output should be: total=4\n",
    "```\n",
    "\n",
    "### Criteria\n",
    "1. Create a function that receives a collection and return an integer with the total\n",
    "\n",
    "### Hint\n",
    "-'%' is mathemic operand to get the module from a divison.\n",
    "- 2 % 2 = 0\n",
    "\n",
    "The collection is numbers = [3,5,27,20,6,3.5,60]"
   ]
  },
  {
   "cell_type": "code",
   "execution_count": null,
   "id": "408e8343",
   "metadata": {},
   "outputs": [],
   "source": [
    "\n"
   ]
  }
 ],
 "metadata": {
  "kernelspec": {
   "display_name": "Python 3 (ipykernel)",
   "language": "python",
   "name": "python3"
  },
  "language_info": {
   "codemirror_mode": {
    "name": "ipython",
    "version": 3
   },
   "file_extension": ".py",
   "mimetype": "text/x-python",
   "name": "python",
   "nbconvert_exporter": "python",
   "pygments_lexer": "ipython3",
   "version": "3.12.3"
  }
 },
 "nbformat": 4,
 "nbformat_minor": 5
}
