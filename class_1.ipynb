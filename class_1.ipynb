{
 "cells": [
  {
   "cell_type": "markdown",
   "id": "77d80d13",
   "metadata": {},
   "source": [
    "FSDI 114 - Class 1: Jupyter Introduction and Problem Solving"
   ]
  },
  {
   "cell_type": "code",
   "execution_count": 2,
   "id": "166500ec",
   "metadata": {},
   "outputs": [
    {
     "name": "stdout",
     "output_type": "stream",
     "text": [
      "H\n",
      "e\n",
      "l\n",
      "l\n",
      "o\n",
      ",\n",
      " \n",
      "W\n",
      "o\n",
      "r\n",
      "l\n",
      "d\n"
     ]
    }
   ],
   "source": [
    "for letter in \"Hello, World\":\n",
    "    print(letter)"
   ]
  },
  {
   "cell_type": "code",
   "execution_count": null,
   "id": "2185dd27",
   "metadata": {},
   "outputs": [],
   "source": []
  },
  {
   "cell_type": "markdown",
   "id": "c39db4b8",
   "metadata": {},
   "source": [
    "# Problem 1\n",
    "\n",
    "### Find the total numbers from a Collection that divided by 2 the module is 0\n",
    "\n",
    "```\n",
    "1. Given [3,4,10,15,999,2] Then the output should be: total=3\n",
    "2. Given [2,4,6,10,3.7] Then the output should be: total=4\n",
    "```\n",
    "\n",
    "### Criteria\n",
    "1. Create a function that receives a collection and return an integer with the total\n",
    "\n",
    "### Hint\n",
    "-'%' is mathemic operand to get the module from a divison.\n",
    "- 2 % 2 = 0\n",
    "\n",
    "The collection is numbers = [3,5,27,20,6,3.5,60]"
   ]
  },
  {
   "cell_type": "code",
   "execution_count": 14,
   "id": "e138f58b",
   "metadata": {},
   "outputs": [
    {
     "data": {
      "text/plain": [
       "3"
      ]
     },
     "execution_count": 14,
     "metadata": {},
     "output_type": "execute_result"
    }
   ],
   "source": [
    "# Pseudocode -> Not real code (inteded to help us not get stuck on the programming language syntax)\n",
    "# (Writing a recipe or a set of instruction in order to solve the requested problem)\n",
    "\n",
    "# defining a new function called \"module_check\" with a single parameter: c1 (of type collection):\n",
    "# create a new variable called \"count\" that is going to store an integer value with the ammound of times that we find a number\n",
    "# for each \"number\" in the range between 0 and the length of the \"c1\":\n",
    "#    if the module of the number is equals to 0:\n",
    "#       add one to my count variable\n",
    "# lets return the variable count\n",
    "# lets call the module_check function and the parameter is going to \"n\" collection\n",
    "\n",
    "\n",
    "\n",
    "numbers = [3,5,27,20,6,3.5,60]\n",
    "\n",
    "def module_check(c1):\n",
    "    \"\"\"\n",
    "    Calculate the total occurances in a collection where the module by 2 is equals to 0\n",
    "\n",
    "    Args:\n",
    "        c1 (collection): The collection that we want to review\n",
    "        \n",
    "    Returns: \n",
    "        integer: The number of times that were found in the collection    \n",
    "    \"\"\"\n",
    "\n",
    "    number_of_times= 0\n",
    "    for single_number in c1:\n",
    "        if single_number % 2 == 0:\n",
    "            number_of_times += 1\n",
    "    return number_of_times        \n",
    "\n",
    "module_check(numbers)\n"
   ]
  }
 ],
 "metadata": {
  "kernelspec": {
   "display_name": "Python 3 (ipykernel)",
   "language": "python",
   "name": "python3"
  },
  "language_info": {
   "codemirror_mode": {
    "name": "ipython",
    "version": 3
   },
   "file_extension": ".py",
   "mimetype": "text/x-python",
   "name": "python",
   "nbconvert_exporter": "python",
   "pygments_lexer": "ipython3",
   "version": "3.12.3"
  }
 },
 "nbformat": 4,
 "nbformat_minor": 5
}
