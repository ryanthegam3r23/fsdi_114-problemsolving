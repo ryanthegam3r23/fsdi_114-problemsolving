{
 "cells": [
  {
   "cell_type": "markdown",
   "id": "71e2b3cc",
   "metadata": {},
   "source": [
    "# Class 2 - Big O Notation, Stacks and Queues\n",
    "\n",
    "## Problem 2\n",
    "\n",
    "### Anagram Check\n",
    "\n",
    "Create a function that takes two strings as parameters and returns True if they are anagrams of each other, False otherwise.\n",
    "'''\n",
    "\n",
    "Examples:\n",
    "1. heart and earth\n",
    "2. scar and cars\n",
    "3. star and rats\n",
    "etc\n",
    "'''\n",
    "### Criteria\n",
    "Two strings are anagrams of each other if and only if all the criteria below are met:\n",
    "\n",
    "1. They must use all the same characters\n",
    "2. They must be exactly the same length (in characters)"
   ]
  },
  {
   "cell_type": "code",
   "execution_count": 1,
   "id": "7979220c",
   "metadata": {},
   "outputs": [
    {
     "data": {
      "text/plain": [
       "False"
      ]
     },
     "execution_count": 1,
     "metadata": {},
     "output_type": "execute_result"
    }
   ],
   "source": [
    "# Pseudocode ->\n",
    "# defining a new function called anagram_check\n",
    "# define both words\n",
    "# use an if statement to check if the lengths of both words are equal\n",
    "# if they are not equal, return False\n",
    "    \n",
    "\n",
    "def check_anagrams(word1, word2):\n",
    "    word1 = word1.lower().replace(\" \",\"\")\n",
    "    word2 = word2.lower().replace(\" \",\"\")\n",
    "    word = {}\n",
    "    word2 = {}\n",
    "    if len(word1) == len(word2):\n",
    "        for letter in word1:\n",
    "            if word.get(letter):\n",
    "                word[letter]+= 1\n",
    "            else:\n",
    "                word[letter] = 1\n",
    "\n",
    "        for letter in word2:\n",
    "            if word2.get(letter):\n",
    "                word2[letter]+= 1\n",
    "            else:\n",
    "                word2[letter] = 1  \n",
    "                          \n",
    "        return word == word2\n",
    "    else:\n",
    "        return False    \n",
    "\n",
    "check_anagrams(\"Tom Marvolo Riddle\", \"I am Lord Voldemort\")                   "
   ]
  }
 ],
 "metadata": {
  "kernelspec": {
   "display_name": "Python 3 (ipykernel)",
   "language": "python",
   "name": "python3"
  },
  "language_info": {
   "codemirror_mode": {
    "name": "ipython",
    "version": 3
   },
   "file_extension": ".py",
   "mimetype": "text/x-python",
   "name": "python",
   "nbconvert_exporter": "python",
   "pygments_lexer": "ipython3",
   "version": "3.12.3"
  }
 },
 "nbformat": 4,
 "nbformat_minor": 5
}
