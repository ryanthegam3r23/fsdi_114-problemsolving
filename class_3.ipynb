{
 "cells": [
  {
   "cell_type": "markdown",
   "id": "c5e9a912",
   "metadata": {},
   "source": [
    "# Class 3 -Stacks and Queues\n",
    "\n",
    "## Stack\n",
    "A stack is an ordered collection of elements where items are added and removed from one end, commonly referred to as the \"top. The ordering principle is referred to as LIFO (last in, first out)\n",
    "\n",
    "\n",
    "## Queue\n",
    "A queue is an oredered collection of elements where items are added and removed from opposite ends, commonly referred to as the \"front\" and \"back or \"rear\" of the queue. The ordering principle is referred to as FIFO (first in, first out) or \"First come, first served\"."
   ]
  },
  {
   "cell_type": "code",
   "execution_count": 2,
   "id": "ef6cdec5",
   "metadata": {},
   "outputs": [],
   "source": [
    "# Simplified version of a Stack (relying on built-in functions)\n",
    "\n",
    "class Stack:\n",
    "    def __init__(self):\n",
    "        self.items = []\n",
    "\n",
    "    def push(self, elements):\n",
    "        self.items.append(elements)\n",
    "\n",
    "    def pop(self):\n",
    "        return self.items.pop()\n",
    "\n",
    "    def peek(self):\n",
    "        return self.items[len(self.items) - 1]        \n",
    "\n",
    "    def size(self):\n",
    "        return len(self.items)\n",
    "\n",
    "    def is_empty(self):\n",
    "        return self.items == []                 "
   ]
  },
  {
   "cell_type": "code",
   "execution_count": null,
   "id": "6e388314",
   "metadata": {},
   "outputs": [
    {
     "name": "stdout",
     "output_type": "stream",
     "text": [
      "[10, 20, 23, 19, 40]\n",
      "40\n",
      "19\n",
      "23\n",
      "False\n",
      "2\n"
     ]
    }
   ],
   "source": [
    "stack = Stack()\n",
    "stack.push(10)\n",
    "stack.push(20)\n",
    "stack.push(23)\n",
    "stack.push(19)\n",
    "stack.push(40)\n",
    "\n",
    "print(stack.items)\n",
    "\n",
    "print(stack.pop()) #40\n",
    "print(stack.pop()) #19\n",
    "print(stack.pop()) #23\n",
    "\n",
    "print(stack.is_empty())\n",
    "\n",
    "print(stack.size())\n",
    "\n",
    "print(stack.peek())"
   ]
  },
  {
   "cell_type": "markdown",
   "id": "ae1838ef",
   "metadata": {},
   "source": [
    "# Problem 3\n",
    "### Use the stack class above to invert a string\n",
    "\n",
    "'''\n",
    "Example:\n",
    "given \"Luis\" your function should return siuL\n",
    "given \"stars\" your function should return \"starS\"\n",
    "given \"cool\" your function should return \"looc\"\n",
    "\n",
    "Criteria: Your function must receive a string as a parameter and return a string (not a list)\n",
    "Your Function must use the Stack class above\n"
   ]
  },
  {
   "cell_type": "code",
   "execution_count": null,
   "id": "a1a7ebe8",
   "metadata": {},
   "outputs": [
    {
     "name": "stdout",
     "output_type": "stream",
     "text": [
      "None\n",
      "None\n",
      "None\n"
     ]
    }
   ],
   "source": [
    "def invert_string(input_string):\n",
    "    stack = Stack()\n",
    "    for char in input_string:\n",
    "        stack.push(char)\n",
    "    \n",
    "    inverted_string = \"\"\n",
    "    while not stack.is_empty():\n",
    "        inverted_string += stack.pop()\n",
    "    \n",
    "    return inverted_string\n",
    "\n",
    "\n",
    "print(invert_string(\"Luis\"))\n",
    "print(invert_string(\"stars\"))\n",
    "print(invert_string(\"cool\"))\n",
    "\n",
    "    \n",
    "\n"
   ]
  }
 ],
 "metadata": {
  "kernelspec": {
   "display_name": "Python 3 (ipykernel)",
   "language": "python",
   "name": "python3"
  },
  "language_info": {
   "codemirror_mode": {
    "name": "ipython",
    "version": 3
   },
   "file_extension": ".py",
   "mimetype": "text/x-python",
   "name": "python",
   "nbconvert_exporter": "python",
   "pygments_lexer": "ipython3",
   "version": "3.12.3"
  }
 },
 "nbformat": 4,
 "nbformat_minor": 5
}
