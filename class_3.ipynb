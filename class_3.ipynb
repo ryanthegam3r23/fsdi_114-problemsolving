{
 "cells": [
  {
   "cell_type": "markdown",
   "id": "c5e9a912",
   "metadata": {},
   "source": [
    "# Class 3 -Stacks and Queues\n",
    "\n",
    "## Stack\n",
    "A stack is an ordered collection of elements where items are added and removed from one end, commonly referred to as the \"top. The ordering principle is referred to as LIFO (last in, first out)\n",
    "\n",
    "\n",
    "## Queue\n",
    "A queue is an oredered collection of elements where items are added and removed from opposite ends, commonly referred to as the \"front\" and \"back or \"rear\" of the queue. The ordering principle is referred to as FIFO (first in, first out) or \"First come, first served\"."
   ]
  },
  {
   "cell_type": "code",
   "execution_count": 2,
   "id": "ef6cdec5",
   "metadata": {},
   "outputs": [],
   "source": [
    "# Simplified version of a Stack (relying on built-in functions)\n",
    "\n",
    "class Stack:\n",
    "    def __init__(self):\n",
    "        self.items = []\n",
    "\n",
    "    def push(self, elements):\n",
    "        self.items.append(elements)\n",
    "\n",
    "    def pop(self):\n",
    "        return self.items.pop()\n",
    "\n",
    "    def peek(self):\n",
    "        return self.items[len(self.items) - 1]        \n",
    "\n",
    "    def size(self):\n",
    "        return len(self.items)\n",
    "\n",
    "    def is_empty(self):\n",
    "        return self.items == []                 "
   ]
  },
  {
   "cell_type": "code",
   "execution_count": null,
   "id": "6e388314",
   "metadata": {},
   "outputs": [
    {
     "name": "stdout",
     "output_type": "stream",
     "text": [
      "[10, 20, 23, 19, 40]\n",
      "40\n",
      "19\n",
      "23\n",
      "False\n",
      "2\n"
     ]
    }
   ],
   "source": [
    "stack = Stack()\n",
    "stack.push(10)\n",
    "stack.push(20)\n",
    "stack.push(23)\n",
    "stack.push(19)\n",
    "stack.push(40)\n",
    "\n",
    "print(stack.items)\n",
    "\n",
    "print(stack.pop()) #40\n",
    "print(stack.pop()) #19\n",
    "print(stack.pop()) #23\n",
    "\n",
    "print(stack.is_empty())\n",
    "\n",
    "print(stack.size())\n",
    "\n",
    "print(stack.peek())"
   ]
  },
  {
   "cell_type": "markdown",
   "id": "ae1838ef",
   "metadata": {},
   "source": [
    "# Problem 3\n",
    "### Use the stack class above to invert a string\n",
    "\n",
    "'''\n",
    "Example:\n",
    "given \"Luis\" your function should return siuL\n",
    "given \"stars\" your function should return \"starS\"\n",
    "given \"cool\" your function should return \"looc\"\n",
    "\n",
    "Criteria: Your function must receive a string as a parameter and return a string (not a list)\n",
    "Your Function must use the Stack class above\n"
   ]
  },
  {
   "cell_type": "code",
   "execution_count": 4,
   "id": "a1a7ebe8",
   "metadata": {},
   "outputs": [
    {
     "ename": "NameError",
     "evalue": "name 'Stack' is not defined",
     "output_type": "error",
     "traceback": [
      "\u001b[31m---------------------------------------------------------------------------\u001b[39m",
      "\u001b[31mNameError\u001b[39m                                 Traceback (most recent call last)",
      "\u001b[36mCell\u001b[39m\u001b[36m \u001b[39m\u001b[32mIn[4]\u001b[39m\u001b[32m, line 13\u001b[39m\n\u001b[32m      8\u001b[39m         inverted_string += stack.pop()\n\u001b[32m     10\u001b[39m     \u001b[38;5;28;01mreturn\u001b[39;00m inverted_string\n\u001b[32m---> \u001b[39m\u001b[32m13\u001b[39m \u001b[38;5;28mprint\u001b[39m(\u001b[43minvert_string\u001b[49m\u001b[43m(\u001b[49m\u001b[33;43m\"\u001b[39;49m\u001b[33;43mLuis\u001b[39;49m\u001b[33;43m\"\u001b[39;49m\u001b[43m)\u001b[49m)\n\u001b[32m     14\u001b[39m \u001b[38;5;28mprint\u001b[39m(invert_string(\u001b[33m\"\u001b[39m\u001b[33mstars\u001b[39m\u001b[33m\"\u001b[39m))\n\u001b[32m     15\u001b[39m \u001b[38;5;28mprint\u001b[39m(invert_string(\u001b[33m\"\u001b[39m\u001b[33mcool\u001b[39m\u001b[33m\"\u001b[39m))\n",
      "\u001b[36mCell\u001b[39m\u001b[36m \u001b[39m\u001b[32mIn[4]\u001b[39m\u001b[32m, line 2\u001b[39m, in \u001b[36minvert_string\u001b[39m\u001b[34m(input_string)\u001b[39m\n\u001b[32m      1\u001b[39m \u001b[38;5;28;01mdef\u001b[39;00m\u001b[38;5;250m \u001b[39m\u001b[34minvert_string\u001b[39m(input_string):\n\u001b[32m----> \u001b[39m\u001b[32m2\u001b[39m     stack = \u001b[43mStack\u001b[49m()\n\u001b[32m      3\u001b[39m     \u001b[38;5;28;01mfor\u001b[39;00m char \u001b[38;5;129;01min\u001b[39;00m input_string:\n\u001b[32m      4\u001b[39m         stack.push(char)\n",
      "\u001b[31mNameError\u001b[39m: name 'Stack' is not defined"
     ]
    }
   ],
   "source": [
    "def invert_string(input_string):\n",
    "    stack = Stack()\n",
    "    for char in input_string:\n",
    "        stack.push(char)\n",
    "    \n",
    "    inverted_string = \"\"\n",
    "    while not stack.is_empty():\n",
    "        inverted_string += stack.pop()\n",
    "    \n",
    "    return inverted_string\n",
    "\n",
    "\n",
    "print(invert_string(\"Luis\"))\n",
    "print(invert_string(\"stars\"))\n",
    "print(invert_string(\"cool\"))\n",
    "\n",
    "    \n",
    "\n"
   ]
  },
  {
   "cell_type": "code",
   "execution_count": 6,
   "id": "5ef0e301",
   "metadata": {},
   "outputs": [
    {
     "name": "stdout",
     "output_type": "stream",
     "text": [
      "\n",
      "\n",
      "\n"
     ]
    }
   ],
   "source": [
    "class Node:\n",
    "    def __init__(self, data,below):\n",
    "        self.data = data\n",
    "        self.below = below\n",
    "\n",
    "class CStack:\n",
    "    def __init__(self):\n",
    "        self.top = None\n",
    "\n",
    "    def push(self,data):\n",
    "        if self.top is None:\n",
    "            node = Node(data,self.top)\n",
    "            self.top = node\n",
    "        else:\n",
    "            new_node = Node(data,self.top.below)\n",
    "            self.top = new_node \n",
    "    def pop(self):\n",
    "        if self.top is None:\n",
    "            raise IndexError(\"The stack is empty\")\n",
    "        else:\n",
    "            node = self.top.data\n",
    "            self.top = self.top.below\n",
    "            return node\n",
    "    def is_empty(self):\n",
    "        return self.top==None            \n",
    "\n",
    "stack = CStack()\n",
    "stack.push(20)\n",
    "print(\"\")\n",
    "stack.push(21)\n",
    "print(\"\")\n",
    "stack.push(30)\n",
    "print(\"\")               \n",
    "            "
   ]
  },
  {
   "cell_type": "code",
   "execution_count": null,
   "id": "f100624b",
   "metadata": {},
   "outputs": [],
   "source": [
    "def invert_string(input_string):\n",
    "    stack = Stack()\n",
    "    for char in input_string:\n",
    "        stack.push(char)\n",
    "    \n",
    "    inverted_string = \"\"\n",
    "    while not stack.is_empty():\n",
    "        inverted_string += stack.pop()\n",
    "    \n",
    "    return inverted_string"
   ]
  }
 ],
 "metadata": {
  "kernelspec": {
   "display_name": "Python 3 (ipykernel)",
   "language": "python",
   "name": "python3"
  },
  "language_info": {
   "codemirror_mode": {
    "name": "ipython",
    "version": 3
   },
   "file_extension": ".py",
   "mimetype": "text/x-python",
   "name": "python",
   "nbconvert_exporter": "python",
   "pygments_lexer": "ipython3",
   "version": "3.12.3"
  }
 },
 "nbformat": 4,
 "nbformat_minor": 5
}
