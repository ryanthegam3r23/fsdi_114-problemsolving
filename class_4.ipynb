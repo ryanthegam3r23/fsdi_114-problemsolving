{
 "cells": [
  {
   "cell_type": "markdown",
   "id": "db770b61",
   "metadata": {},
   "source": [
    "# Class 4 - Linked Lists (SLL - Single Linked Lists and Double Linked Lists)\n",
    "\n",
    "Differences between Arrays and Linked Lists:"
   ]
  },
  {
   "cell_type": "code",
   "execution_count": 3,
   "id": "6acbe3ae",
   "metadata": {},
   "outputs": [
    {
     "name": "stdout",
     "output_type": "stream",
     "text": [
      "[298, 305, 301, 320, 292]\n",
      "[298, 284, 305, 301, 320, 292]\n"
     ]
    }
   ],
   "source": [
    "# Arrays\n",
    "\n",
    "stock_prices = [298,305,301,320,292]\n",
    "print(stock_prices)\n",
    "\"\"\"\n",
    "[298] - 0x00500\n",
    "[305] - 0x00504\n",
    "[301] - 0x00508\n",
    "[320] - 0x0050c\n",
    "[292] - 0x00510\n",
    "\"\"\"\n",
    "stock_prices.insert(1,284)\n",
    "\"\"\"\n",
    "[298] - 0x00500\n",
    "[284] - 0x00504\n",
    "[305] - 0x00508\n",
    "[301] - 0x0050c\n",
    "[320] - 0x00510\n",
    "[292] - 0x00514\n",
    "\"\"\"\n",
    "print(stock_prices)"
   ]
  },
  {
   "cell_type": "code",
   "execution_count": 13,
   "id": "3eec6c3d",
   "metadata": {},
   "outputs": [
    {
     "name": "stdout",
     "output_type": "stream",
     "text": [
      "200--> 30--> 20--> 1--> 2--> 50--> 51--> \n",
      "7\n",
      "200--> 30--> 20--> 1--> 2--> 50--> 51--> \n"
     ]
    }
   ],
   "source": [
    "# Single Linked Lists\n",
    "\n",
    "# Node -> [data | link]\n",
    "\"\"\"  \n",
    "0x00500               0x00A1            0x00C5              0x00d7           0x00C0 \n",
    "[298 | 0x00A1 ] -> [305 | 0x00C5 ] -> [301 | 0x00D7 ] -> [320 | 0x00C0 ] -> [292 | null ]\n",
    "Insert element 284 at postion 1\n",
    "0x00500              0xC702             0x00A1            0x00C5              0x00d7           0x00C0 \n",
    "[298 | 0xC702 ] -> [284 | 0x00A1] [305 | 0x00C5 ] -> [301 | 0x00D7 ] -> [320 | 0x00C0 ] -> [292 | null ]\n",
    "\"\"\"\n",
    "\n",
    "\n",
    "class Node:\n",
    "    def __init__(self,data,next):\n",
    "        self.data = data\n",
    "        self.next = next\n",
    "\n",
    "class LinkedList:\n",
    "    def __init__(self):\n",
    "        self.head = None\n",
    "\n",
    "    def insert_at_beginning(self, data):\n",
    "        node =Node(data, self.head)\n",
    "        self.head = node\n",
    "\n",
    "    def insert_at_end(self, data):\n",
    "        if self.head is None:\n",
    "            self.head = Node(data,None)\n",
    "            return\n",
    "        \n",
    "        itr = self.head\n",
    "        while itr.next:\n",
    "            itr = itr.next\n",
    "        itr.next = Node(data, None)\n",
    "\n",
    "    def insert_at(self,index,data):\n",
    "        if index < 0 or index >= self.length():\n",
    "            raise IndexError(\"Out of bounds\")\n",
    "        if index == 0:\n",
    "            self.insert_at_beginning(data)\n",
    "            return\n",
    "        count = 0\n",
    "        itr = self.head\n",
    "        while itr:\n",
    "            if count == index:\n",
    "                pass\n",
    "            itr = itr.next\n",
    "            count +=1    \n",
    "\n",
    "    def print(self):\n",
    "        if self.head is None:\n",
    "            print(\"LinkedList is empty\")\n",
    "            return\n",
    "        itr = self.head\n",
    "        llstr = ''\n",
    "        while itr:\n",
    "            llstr += str(itr.data) +'--> '\n",
    "            itr = itr.next\n",
    "        print(llstr)\n",
    "\n",
    "    def length(self):\n",
    "        count = 0\n",
    "        itr = self.head\n",
    "        while itr:\n",
    "            count += 1 \n",
    "            itr =itr.next\n",
    "        return count            \n",
    "      \n",
    "\n",
    "\n",
    "\n",
    "\n",
    "\n",
    "\n",
    "example_ll = LinkedList()\n",
    "example_ll.insert_at_beginning(2)\n",
    "example_ll.insert_at_beginning(1)\n",
    "example_ll.insert_at_beginning(20)\n",
    "example_ll.insert_at_beginning(30)   \n",
    "example_ll.insert_at_end(50)\n",
    "example_ll.insert_at_end(51)\n",
    "example_ll.insert_at_beginning(200)\n",
    "example_ll.print()\n",
    "print(example_ll.length())\n",
    "example_ll.insert_at(1,40)\n",
    "example_ll.print()\n",
    "\n"
   ]
  },
  {
   "cell_type": "markdown",
   "id": "82b95e08",
   "metadata": {},
   "source": [
    "# Double Linked Lists\n",
    "\n",
    "# Node -> [link | data | link]\n",
    "\n",
    "\"\"\"\n",
    "0x00500                    0x00A1                      0x00C5            \n",
    "[null  | 298 | 0x00A1] -> [0x00500 | 305 | 0x00C5] -> [0x00A1 | 320 | null]\n",
    "\"\"\""
   ]
  }
 ],
 "metadata": {
  "kernelspec": {
   "display_name": "Python 3 (ipykernel)",
   "language": "python",
   "name": "python3"
  },
  "language_info": {
   "codemirror_mode": {
    "name": "ipython",
    "version": 3
   },
   "file_extension": ".py",
   "mimetype": "text/x-python",
   "name": "python",
   "nbconvert_exporter": "python",
   "pygments_lexer": "ipython3",
   "version": "3.12.3"
  }
 },
 "nbformat": 4,
 "nbformat_minor": 5
}
